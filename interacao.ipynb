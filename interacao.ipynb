{
  "nbformat": 4,
  "nbformat_minor": 0,
  "metadata": {
    "colab": {
      "name": "interacao.ipynb",
      "provenance": [],
      "authorship_tag": "ABX9TyN2f9G5VgTOMWcL9Rw/leEd",
      "include_colab_link": true
    },
    "kernelspec": {
      "name": "python3",
      "display_name": "Python 3"
    },
    "language_info": {
      "name": "python"
    }
  },
  "cells": [
    {
      "cell_type": "markdown",
      "metadata": {
        "id": "view-in-github",
        "colab_type": "text"
      },
      "source": [
        "<a href=\"https://colab.research.google.com/github/Silvana23/aprendendo-python/blob/main/interacao.ipynb\" target=\"_parent\"><img src=\"https://colab.research.google.com/assets/colab-badge.svg\" alt=\"Open In Colab\"/></a>"
      ]
    },
    {
      "cell_type": "code",
      "execution_count": null,
      "metadata": {
        "colab": {
          "base_uri": "https://localhost:8080/",
          "height": 36
        },
        "id": "kgZJ4bZN1Tdt",
        "outputId": "554a6b9c-bb9b-48fa-dd1e-c5ec9f090877"
      },
      "outputs": [
        {
          "output_type": "execute_result",
          "data": {
            "application/vnd.google.colaboratory.intrinsic+json": {
              "type": "string"
            },
            "text/plain": [
              "'O INVERNO ESTA CHEGANDO'"
            ]
          },
          "metadata": {},
          "execution_count": 1
        }
      ],
      "source": [
        "lema = 'o inverno esta chegando'\n",
        "lema.upper()"
      ]
    },
    {
      "cell_type": "code",
      "source": [
        "#len(lema)\n",
        "print( 'o tamanho da frase e ' , len(lema))"
      ],
      "metadata": {
        "colab": {
          "base_uri": "https://localhost:8080/"
        },
        "id": "FtUU1SEV1jl0",
        "outputId": "8d2e81ab-c0ad-4c6f-d175-4a5a6bca4f8f"
      },
      "execution_count": null,
      "outputs": [
        {
          "output_type": "stream",
          "name": "stdout",
          "text": [
            "o tamanho da frase e  23\n"
          ]
        }
      ]
    },
    {
      "cell_type": "code",
      "source": [
        "lema.lower()"
      ],
      "metadata": {
        "colab": {
          "base_uri": "https://localhost:8080/",
          "height": 36
        },
        "id": "9fy_sZe71zre",
        "outputId": "3cdd3454-f9c3-44bd-ad21-261db59554e8"
      },
      "execution_count": null,
      "outputs": [
        {
          "output_type": "execute_result",
          "data": {
            "application/vnd.google.colaboratory.intrinsic+json": {
              "type": "string"
            },
            "text/plain": [
              "'o inverno esta chegando'"
            ]
          },
          "metadata": {},
          "execution_count": 4
        }
      ]
    },
    {
      "cell_type": "code",
      "source": [
        "lema.replace('inverno' ,'jantar')"
      ],
      "metadata": {
        "colab": {
          "base_uri": "https://localhost:8080/",
          "height": 36
        },
        "id": "1Pv08wm917Me",
        "outputId": "b073e145-bbfa-423c-beb1-515dc39b235f"
      },
      "execution_count": null,
      "outputs": [
        {
          "output_type": "execute_result",
          "data": {
            "application/vnd.google.colaboratory.intrinsic+json": {
              "type": "string"
            },
            "text/plain": [
              "'o jantar esta chegando'"
            ]
          },
          "metadata": {},
          "execution_count": 6
        }
      ]
    }
  ]
}