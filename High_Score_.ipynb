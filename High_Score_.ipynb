{
  "nbformat": 4,
  "nbformat_minor": 0,
  "metadata": {
    "colab": {
      "name": "High Score .ipynb",
      "provenance": [],
      "authorship_tag": "ABX9TyM5zHxUbwIvww0jeNMX9hJn",
      "include_colab_link": true
    },
    "kernelspec": {
      "name": "python3",
      "display_name": "Python 3"
    },
    "language_info": {
      "name": "python"
    }
  },
  "cells": [
    {
      "cell_type": "markdown",
      "metadata": {
        "id": "view-in-github",
        "colab_type": "text"
      },
      "source": [
        "<a href=\"https://colab.research.google.com/github/Silvana23/aprendendo-python/blob/main/High_Score_.ipynb\" target=\"_parent\"><img src=\"https://colab.research.google.com/assets/colab-badge.svg\" alt=\"Open In Colab\"/></a>"
      ]
    },
    {
      "cell_type": "code",
      "execution_count": 1,
      "metadata": {
        "colab": {
          "base_uri": "https://localhost:8080/"
        },
        "id": "So9yH6jSZMxt",
        "outputId": "5eb434bb-35a5-445f-b30a-d38c77d8ae70"
      },
      "outputs": [
        {
          "output_type": "stream",
          "name": "stdout",
          "text": [
            "Input a list of student scores 78 65 89 86 55 91 64 89\n",
            "[78, 65, 89, 86, 55, 91, 64, 89]\n"
          ]
        }
      ],
      "source": [
        "student_scores = input(\"Input a list of student scores \").split()\n",
        "for n in range(0, len(student_scores)):\n",
        "  student_scores[n] = int(student_scores[n])\n",
        "print(student_scores)"
      ]
    },
    {
      "cell_type": "code",
      "source": [
        "highest_score = 0\n",
        "for score in student_scores:\n",
        "    if  score > highest_score:\n",
        "       highest_score = score\n",
        "print(f\"The highest score in the class is: {highest_score}\")\n"
      ],
      "metadata": {
        "colab": {
          "base_uri": "https://localhost:8080/"
        },
        "id": "TKcbUyjOZZAQ",
        "outputId": "d23f9a04-2ea7-4b21-cd10-4c664cf4fb98"
      },
      "execution_count": 2,
      "outputs": [
        {
          "output_type": "stream",
          "name": "stdout",
          "text": [
            "The highest score in the class is: 91\n"
          ]
        }
      ]
    }
  ]
}