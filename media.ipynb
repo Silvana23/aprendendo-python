{
  "nbformat": 4,
  "nbformat_minor": 0,
  "metadata": {
    "colab": {
      "name": "media.ipynb",
      "provenance": [],
      "authorship_tag": "ABX9TyPIjjW2etX7yPAs7QQkDz3S",
      "include_colab_link": true
    },
    "kernelspec": {
      "name": "python3",
      "display_name": "Python 3"
    },
    "language_info": {
      "name": "python"
    }
  },
  "cells": [
    {
      "cell_type": "markdown",
      "metadata": {
        "id": "view-in-github",
        "colab_type": "text"
      },
      "source": [
        "<a href=\"https://colab.research.google.com/github/Silvana23/aprendendo-python/blob/main/media.ipynb\" target=\"_parent\"><img src=\"https://colab.research.google.com/assets/colab-badge.svg\" alt=\"Open In Colab\"/></a>"
      ]
    },
    {
      "cell_type": "code",
      "execution_count": 44,
      "metadata": {
        "colab": {
          "base_uri": "https://localhost:8080/"
        },
        "id": "p4SsbWbEOie5",
        "outputId": "ccfdbccc-9744-4c17-b80e-3f44425a062d"
      },
      "outputs": [
        {
          "output_type": "stream",
          "name": "stdout",
          "text": [
            "------------------------------\n",
            "a nota media do aluno e :  5.25\n",
            "==============================\n",
            "lamento nao foi desta vez\n",
            "------------------------------\n"
          ]
        }
      ],
      "source": [
        "import statistics as st\n",
        "list=[4.5, 7, 8.5 ,10]\n",
        "nota = st.mean(list)\n",
        "print('------------------------------')\n",
        "print(\"a nota media do aluno e : \" ,nota)\n",
        "print('==============================')\n",
        "if nota >6:\n",
        "   print(\"**parabens voce foi aprovado**\")\n",
        "   print('------------------------------')\n",
        "else:\n",
        "    print(\"lamento nao foi desta vez\")\n",
        "    print('------------------------------')"
      ]
    }
  ]
}