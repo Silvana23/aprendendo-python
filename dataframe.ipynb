{
  "nbformat": 4,
  "nbformat_minor": 0,
  "metadata": {
    "colab": {
      "name": "dataframe.ipynb",
      "provenance": [],
      "authorship_tag": "ABX9TyPiPN8jRr5TejwEvVIBYKXB",
      "include_colab_link": true
    },
    "kernelspec": {
      "name": "python3",
      "display_name": "Python 3"
    },
    "language_info": {
      "name": "python"
    }
  },
  "cells": [
    {
      "cell_type": "markdown",
      "metadata": {
        "id": "view-in-github",
        "colab_type": "text"
      },
      "source": [
        "<a href=\"https://colab.research.google.com/github/Silvana23/aprendendo-python/blob/main/dataframe.ipynb\" target=\"_parent\"><img src=\"https://colab.research.google.com/assets/colab-badge.svg\" alt=\"Open In Colab\"/></a>"
      ]
    },
    {
      "cell_type": "code",
      "execution_count": null,
      "metadata": {
        "id": "BbhyfoGW_Jir"
      },
      "outputs": [],
      "source": [
        "import pandas as pd\n",
        "alunos = {'nome' : [ 'gabriel' , 'carlos', 'pablo' , 'miguel'],\n",
        "          'notas': [ 10 , 8 ,4 ,3],\n",
        "          'aprovado':['sim' , 'sim' , 'nao', 'nao']}"
      ]
    },
    {
      "cell_type": "code",
      "source": [
        "#trasformando o dicionario em um dataframe\n",
        "tabela = pd.DataFrame(alunos)"
      ],
      "metadata": {
        "id": "kR5qN-rIGpJY"
      },
      "execution_count": null,
      "outputs": []
    },
    {
      "cell_type": "code",
      "source": [
        "print(tabela)"
      ],
      "metadata": {
        "colab": {
          "base_uri": "https://localhost:8080/"
        },
        "id": "Kgyag_rAG6Zw",
        "outputId": "cefee6aa-47cf-42c8-d167-b4c10b6c5bb5"
      },
      "execution_count": null,
      "outputs": [
        {
          "output_type": "stream",
          "name": "stdout",
          "text": [
            "      nome  notas aprovado\n",
            "0  gabriel     10      sim\n",
            "1   carlos      8      sim\n",
            "2    pablo      4      nao\n",
            "3   miguel      3      nao\n"
          ]
        }
      ]
    }
  ]
}