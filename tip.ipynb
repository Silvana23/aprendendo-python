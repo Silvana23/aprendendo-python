{
  "nbformat": 4,
  "nbformat_minor": 0,
  "metadata": {
    "colab": {
      "name": "tip.ipynb",
      "provenance": [],
      "authorship_tag": "ABX9TyMw5pY3nkc2U4zr0M/lcx2O",
      "include_colab_link": true
    },
    "kernelspec": {
      "name": "python3",
      "display_name": "Python 3"
    },
    "language_info": {
      "name": "python"
    }
  },
  "cells": [
    {
      "cell_type": "markdown",
      "metadata": {
        "id": "view-in-github",
        "colab_type": "text"
      },
      "source": [
        "<a href=\"https://colab.research.google.com/github/Silvana23/aprendendo-python/blob/main/tip.ipynb\" target=\"_parent\"><img src=\"https://colab.research.google.com/assets/colab-badge.svg\" alt=\"Open In Colab\"/></a>"
      ]
    },
    {
      "cell_type": "code",
      "execution_count": 3,
      "metadata": {
        "colab": {
          "base_uri": "https://localhost:8080/"
        },
        "id": "qAzeG_5uCuw6",
        "outputId": "c3e89fa0-0ee5-4230-9967-18ab63aeaff4"
      },
      "outputs": [
        {
          "name": "stdout",
          "output_type": "stream",
          "text": [
            "welcome to the tip calculator\n",
            "What was the total bill? $124.56\n",
            "How much tip would you like to give? 10, 12, or 15? 12\n",
            "How many people to split the bill?7\n"
          ]
        }
      ],
      "source": [
        "print('welcome to the tip calculator')\n",
        "bill = float(input(\"What was the total bill? $\"))\n",
        "tip = int(input(\"How much tip would you like to give? 10, 12, or 15? \"))\n",
        "people = int(input(\"How many people to split the bill?\"))"
      ]
    },
    {
      "cell_type": "code",
      "source": [
        "total= (tip/100 *bill)\n",
        "pay = (bill + total)/people\n",
        "print(round(pay ,2))"
      ],
      "metadata": {
        "colab": {
          "base_uri": "https://localhost:8080/"
        },
        "id": "vPdcnOYfGV33",
        "outputId": "1071ffc5-5be8-45f4-f07e-ed0ddf50c30f"
      },
      "execution_count": 4,
      "outputs": [
        {
          "output_type": "stream",
          "name": "stdout",
          "text": [
            "19.93\n"
          ]
        }
      ]
    }
  ]
}