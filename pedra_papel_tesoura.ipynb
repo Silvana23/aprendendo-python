{
  "nbformat": 4,
  "nbformat_minor": 0,
  "metadata": {
    "colab": {
      "name": "pedra papel tesoura.ipynb",
      "provenance": [],
      "authorship_tag": "ABX9TyP9fB3hywIIRzP3N7mNXaFc",
      "include_colab_link": true
    },
    "kernelspec": {
      "name": "python3",
      "display_name": "Python 3"
    },
    "language_info": {
      "name": "python"
    }
  },
  "cells": [
    {
      "cell_type": "markdown",
      "metadata": {
        "id": "view-in-github",
        "colab_type": "text"
      },
      "source": [
        "<a href=\"https://colab.research.google.com/github/Silvana23/aprendendo-python/blob/main/pedra_papel_tesoura.ipynb\" target=\"_parent\"><img src=\"https://colab.research.google.com/assets/colab-badge.svg\" alt=\"Open In Colab\"/></a>"
      ]
    },
    {
      "cell_type": "code",
      "execution_count": 10,
      "metadata": {
        "id": "n2V1KFY3lqtV"
      },
      "outputs": [],
      "source": [
        "import random\n",
        "pedra = '''\n",
        "    _______\n",
        "---'   ____)\n",
        "      (_____)\n",
        "      (_____)\n",
        "      (____)\n",
        "---.__(___)\n",
        "'''\n",
        "\n",
        "papel = '''\n",
        "    _______\n",
        "---'   ____)____\n",
        "          ______)\n",
        "          _______)\n",
        "         _______)\n",
        "---.__________)\n",
        "'''\n",
        "\n",
        "tesoura = '''\n",
        "    _______\n",
        "---'   ____)____\n",
        "          ______)\n",
        "       __________)\n",
        "      (____)\n",
        "---.__(___)\n",
        "'''"
      ]
    },
    {
      "cell_type": "code",
      "source": [
        "usuarioEscolhe=int(input ('''escolha uma opcao\n",
        "[0]pedra\n",
        "[1]papel\n",
        "[2]tesoura\n",
        "digite sua escolha==>  '''))\n",
        "\n",
        "computadorEscolhe= random.randint(0,2)\n",
        "\n",
        "print(f'computador escolheu  {computadorEscolhe}')\n"
      ],
      "metadata": {
        "colab": {
          "base_uri": "https://localhost:8080/"
        },
        "id": "m5zOCcO9mW1R",
        "outputId": "909e68c6-e11e-4155-87d9-07c071f39de8"
      },
      "execution_count": 26,
      "outputs": [
        {
          "output_type": "stream",
          "name": "stdout",
          "text": [
            "escolha uma opcao\n",
            "[0]pedra\n",
            "[1]papel\n",
            "[2]tesoura\n",
            "digite sua escolha==>  3\n",
            "computador escolheu  1\n"
          ]
        }
      ]
    },
    {
      "cell_type": "code",
      "source": [
        "if computadorEscolhe ==0 and usuarioEscolhe == 0:\n",
        "  print(f\"usuario escolheu {pedra}\")\n",
        "  print(f\"computador escolheu  {pedra}\")\n",
        "  print(\"**EMPATE** ambos ecolheram  PEDRA\")\n",
        "  if usuarioEscolhe ==1:\n",
        "    print(f\"usuario escolheu {papel}\")\n",
        "    print(f\"computador escolheu  {pedra}\")\n",
        "    print(\"**PARABENS** VOCE VENCEU!!\")\n",
        "\n",
        "  elif usuarioEscolhe ==2:\n",
        "    print(f\"usuario escolheu {tesoura}\")\n",
        "    print(f\"computador escolheu  {pedra}\")\n",
        "    print(\" voce perdeu!!\")\n",
        "  else:\n",
        "      print(\"digite uma opcao valida\")\n",
        "\n",
        "elif computadorEscolhe ==1 and usuarioEscolhe== 1:\n",
        "    print(f\"usuario escolheu {papel}\")\n",
        "    print(f\"computador escolheu  {papel}\")\n",
        "    print(\"**EMPATE** ambos ecolheram  PAPEL\")\n",
        "  \n",
        "    if usuarioEscolhe ==2:\n",
        "     print(f\"usuario escolheu {tesoura}\")\n",
        "     print(f\"computador escolheu  {papel}\")\n",
        "     print(\"**PARABENS** VOCE VENCEU!!\")\n",
        "\n",
        "    elif usuarioEscolhe ==0:\n",
        "      print(f\"usuario escolheu {pedra}\")\n",
        "      print(f\"computador escolheu  {papel}\")\n",
        "      print(\" voce perdeu!!\")\n",
        "    else:\n",
        "       print(\"digite uma opcao valida\")\n",
        "\n",
        "elif computadorEscolhe ==2 and usuarioEscolhe== 2:\n",
        "    print(f\"usuario escolheu {tesoura}\")\n",
        "    print(f\"computador escolheu  {tesoura}\")\n",
        "    print(\"**EMPATE** ambos ecolheram  TESOURA\")\n",
        "\n",
        "    if usuarioEscolhe ==0:\n",
        "     print(f\"usuario escolheu {PEDRA}\")\n",
        "     print(f\"computador escolheu  {tesoura}\")\n",
        "     print(\"**PARABENS** VOCE VENCEU!!\")\n",
        "\n",
        "    elif usuarioEscolhe ==1:\n",
        "      print(f\"usuario escolheu {papel}\")\n",
        "      print(f\"computador escolheu  {tesoura}\")\n",
        "      print(\" voce perdeu!!\")\n",
        "else:\n",
        "       print(\"digite uma opcao valida\")"
      ],
      "metadata": {
        "colab": {
          "base_uri": "https://localhost:8080/"
        },
        "id": "E9Vg83pPmfd3",
        "outputId": "fb465a42-8cc0-457b-d968-c8adec23c221"
      },
      "execution_count": 28,
      "outputs": [
        {
          "output_type": "stream",
          "name": "stdout",
          "text": [
            "digite uma opcao valida\n"
          ]
        }
      ]
    }
  ]
}