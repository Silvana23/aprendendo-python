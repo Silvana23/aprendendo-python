{
  "nbformat": 4,
  "nbformat_minor": 0,
  "metadata": {
    "colab": {
      "name": "even or odd.ipynb",
      "provenance": [],
      "toc_visible": true,
      "authorship_tag": "ABX9TyN5S/UOq6g2rPok5kq3SDjW",
      "include_colab_link": true
    },
    "kernelspec": {
      "name": "python3",
      "display_name": "Python 3"
    },
    "language_info": {
      "name": "python"
    }
  },
  "cells": [
    {
      "cell_type": "markdown",
      "metadata": {
        "id": "view-in-github",
        "colab_type": "text"
      },
      "source": [
        "<a href=\"https://colab.research.google.com/github/Silvana23/aprendendo-python/blob/main/even_or_odd.ipynb\" target=\"_parent\"><img src=\"https://colab.research.google.com/assets/colab-badge.svg\" alt=\"Open In Colab\"/></a>"
      ]
    },
    {
      "cell_type": "code",
      "execution_count": null,
      "metadata": {
        "colab": {
          "base_uri": "https://localhost:8080/"
        },
        "id": "ZYohjECN4LLB",
        "outputId": "4614fe9c-633c-45b5-9d38-d49f8f68d0e0"
      },
      "outputs": [
        {
          "name": "stdout",
          "output_type": "stream",
          "text": [
            "Which number do you want to check? 35\n"
          ]
        }
      ],
      "source": [
        "number = int(input(\"Which number do you want to check? \"))"
      ]
    },
    {
      "cell_type": "code",
      "source": [
        "if number%2 ==0:\n",
        "  print(\"this is a even number\")\n",
        "else:\n",
        "   print(\"This is an odd number\")\n",
        "  "
      ],
      "metadata": {
        "id": "6jBv0ODy5E-c",
        "outputId": "27bad777-4124-4835-dd52-8e455115f5aa",
        "colab": {
          "base_uri": "https://localhost:8080/"
        }
      },
      "execution_count": null,
      "outputs": [
        {
          "output_type": "stream",
          "name": "stdout",
          "text": [
            "This is an odd number\n"
          ]
        }
      ]
    }
  ]
}