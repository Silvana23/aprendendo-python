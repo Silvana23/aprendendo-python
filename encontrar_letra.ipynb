{
  "nbformat": 4,
  "nbformat_minor": 0,
  "metadata": {
    "colab": {
      "name": "encontrar_letra.ipynb",
      "provenance": [],
      "authorship_tag": "ABX9TyNbyOyp9+0pFNdup2xW3a75",
      "include_colab_link": true
    },
    "kernelspec": {
      "name": "python3",
      "display_name": "Python 3"
    },
    "language_info": {
      "name": "python"
    }
  },
  "cells": [
    {
      "cell_type": "markdown",
      "metadata": {
        "id": "view-in-github",
        "colab_type": "text"
      },
      "source": [
        "<a href=\"https://colab.research.google.com/github/Silvana23/aprendendo-python/blob/main/encontrar_letra.ipynb\" target=\"_parent\"><img src=\"https://colab.research.google.com/assets/colab-badge.svg\" alt=\"Open In Colab\"/></a>"
      ]
    },
    {
      "cell_type": "code",
      "execution_count": null,
      "metadata": {
        "id": "DZsAVoQ1_1aE"
      },
      "outputs": [],
      "source": [
        "def temLetraU():\n",
        "  frase = input('digite uma frase')\n",
        "  if 'u' in frase:\n",
        "    print('tem letra u')\n",
        "  else:\n",
        "    print ('nao tem letra u')"
      ]
    }
  ]
}