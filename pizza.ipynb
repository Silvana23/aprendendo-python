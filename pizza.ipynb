{
  "nbformat": 4,
  "nbformat_minor": 0,
  "metadata": {
    "colab": {
      "name": "pizza.ipynb",
      "provenance": [],
      "authorship_tag": "ABX9TyNNc4JuMaJJhH2yXAr09tw9",
      "include_colab_link": true
    },
    "kernelspec": {
      "name": "python3",
      "display_name": "Python 3"
    },
    "language_info": {
      "name": "python"
    }
  },
  "cells": [
    {
      "cell_type": "markdown",
      "metadata": {
        "id": "view-in-github",
        "colab_type": "text"
      },
      "source": [
        "<a href=\"https://colab.research.google.com/github/Silvana23/aprendendo-python/blob/main/pizza.ipynb\" target=\"_parent\"><img src=\"https://colab.research.google.com/assets/colab-badge.svg\" alt=\"Open In Colab\"/></a>"
      ]
    },
    {
      "cell_type": "code",
      "execution_count": 1,
      "metadata": {
        "colab": {
          "base_uri": "https://localhost:8080/"
        },
        "id": "XRyp0yBrgr1X",
        "outputId": "34345dce-9725-4f58-db0a-f13212071029"
      },
      "outputs": [
        {
          "name": "stdout",
          "output_type": "stream",
          "text": [
            "Welcome to Python Pizza Deliveries!\n",
            "What size pizza do you want? S, M, or L s\n",
            "Do you want pepperoni? Y or N y\n",
            "Do you want extra cheese? Y or N y\n"
          ]
        }
      ],
      "source": [
        "print(\"Welcome to Python Pizza Deliveries!\")\n",
        "size = input(\"What size pizza do you want? S, M, or L \")\n",
        "add_pepperoni = input(\"Do you want pepperoni? Y or N \")\n",
        "extra_cheese = input(\"Do you want extra cheese? Y or N \")"
      ]
    },
    {
      "cell_type": "code",
      "source": [
        "pay = 0\n",
        "if size == \"s\":\n",
        "    pay +=15\n",
        "elif size == 'm':\n",
        "     pay+=20\n",
        "else:\n",
        "        pay+=25\n",
        "\n",
        "if add_pepperoni =='y':\n",
        "  if size =='s':\n",
        "    pay +=2\n",
        "else:\n",
        "    pay +=3\n",
        "    if extra_cheese=='y':\n",
        "        pay+=1\n",
        "\n",
        "\n",
        "print(f'you have pay ${pay}')   "
      ],
      "metadata": {
        "colab": {
          "base_uri": "https://localhost:8080/"
        },
        "id": "N5jZmZwjg4CD",
        "outputId": "d49bc53e-d051-4abe-f0d4-55b37017079e"
      },
      "execution_count": 2,
      "outputs": [
        {
          "output_type": "stream",
          "name": "stdout",
          "text": [
            "you have pay $17\n"
          ]
        }
      ]
    }
  ]
}