{
  "nbformat": 4,
  "nbformat_minor": 0,
  "metadata": {
    "colab": {
      "name": "contador1.ipynb",
      "provenance": [],
      "authorship_tag": "ABX9TyOJMYPdOHJMYLaSfOeaxLDF",
      "include_colab_link": true
    },
    "kernelspec": {
      "name": "python3",
      "display_name": "Python 3"
    },
    "language_info": {
      "name": "python"
    }
  },
  "cells": [
    {
      "cell_type": "markdown",
      "metadata": {
        "id": "view-in-github",
        "colab_type": "text"
      },
      "source": [
        "<a href=\"https://colab.research.google.com/github/Silvana23/aprendendo-python/blob/main/contador1.ipynb\" target=\"_parent\"><img src=\"https://colab.research.google.com/assets/colab-badge.svg\" alt=\"Open In Colab\"/></a>"
      ]
    },
    {
      "cell_type": "code",
      "execution_count": null,
      "metadata": {
        "colab": {
          "base_uri": "https://localhost:8080/"
        },
        "id": "DznkzR_s0mBm",
        "outputId": "fa2c3bd5-e31b-47b7-fd30-f1dfc95d2049"
      },
      "outputs": [
        {
          "output_type": "stream",
          "name": "stdout",
          "text": [
            "aguarde 10 segundos\n",
            "0\n",
            "1\n",
            "2\n",
            "3\n",
            "4\n",
            "5\n",
            "6\n",
            "7\n",
            "8\n",
            "9\n",
            "10\n",
            "contagem finalizada\n"
          ]
        }
      ],
      "source": [
        "import time\n",
        "contador = 0 \n",
        "print('aguarde 10 segundos')\n",
        "while contador < 11 :\n",
        "  \n",
        "  print(contador)\n",
        "  contador = contador +1\n",
        "  time.sleep(1)\n",
        "print('contagem finalizada')"
      ]
    }
  ]
}