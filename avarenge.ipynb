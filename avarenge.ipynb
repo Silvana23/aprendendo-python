{
  "nbformat": 4,
  "nbformat_minor": 0,
  "metadata": {
    "colab": {
      "name": "avarenge.ipynb",
      "provenance": [],
      "authorship_tag": "ABX9TyPgpgzuwMIgr5HFdVFSKUUD",
      "include_colab_link": true
    },
    "kernelspec": {
      "name": "python3",
      "display_name": "Python 3"
    },
    "language_info": {
      "name": "python"
    }
  },
  "cells": [
    {
      "cell_type": "markdown",
      "metadata": {
        "id": "view-in-github",
        "colab_type": "text"
      },
      "source": [
        "<a href=\"https://colab.research.google.com/github/Silvana23/aprendendo-python/blob/main/avarenge.ipynb\" target=\"_parent\"><img src=\"https://colab.research.google.com/assets/colab-badge.svg\" alt=\"Open In Colab\"/></a>"
      ]
    },
    {
      "cell_type": "code",
      "execution_count": 1,
      "metadata": {
        "colab": {
          "base_uri": "https://localhost:8080/"
        },
        "id": "rqfl32EtVfBf",
        "outputId": "93b48c5b-3d00-47a3-e5ca-265f33d4a5cb"
      },
      "outputs": [
        {
          "name": "stdout",
          "output_type": "stream",
          "text": [
            "Input a list of student heights 156 178 165 171 187\n"
          ]
        }
      ],
      "source": [
        "student_heights = input(\"Input a list of student heights \").split()\n",
        "for n in range(0, len(student_heights)):\n",
        "  student_heights[n] = int(student_heights[n])"
      ]
    },
    {
      "cell_type": "code",
      "source": [
        "\n",
        "total = 0\n",
        "for heights in student_heights:\n",
        "    total += heights\n",
        "  \n",
        "\n",
        "number_students =0\n",
        "for student in student_heights:\n",
        "    number_students+=1\n",
        "\n",
        "avarenge = round(total/number_students)\n",
        "print(avarenge)"
      ],
      "metadata": {
        "colab": {
          "base_uri": "https://localhost:8080/"
        },
        "id": "LzYxw0rYWXzM",
        "outputId": "fe7d9f01-1def-4ece-d28b-614c6f194752"
      },
      "execution_count": 2,
      "outputs": [
        {
          "output_type": "stream",
          "name": "stdout",
          "text": [
            "171\n"
          ]
        }
      ]
    }
  ]
}