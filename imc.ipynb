{
  "nbformat": 4,
  "nbformat_minor": 0,
  "metadata": {
    "colab": {
      "name": "imc.ipynb",
      "provenance": [],
      "authorship_tag": "ABX9TyMJMpyhPMNDtdGTtpTXNE+g",
      "include_colab_link": true
    },
    "kernelspec": {
      "name": "python3",
      "display_name": "Python 3"
    },
    "language_info": {
      "name": "python"
    }
  },
  "cells": [
    {
      "cell_type": "markdown",
      "metadata": {
        "id": "view-in-github",
        "colab_type": "text"
      },
      "source": [
        "<a href=\"https://colab.research.google.com/github/Silvana23/aprendendo-python/blob/main/imc.ipynb\" target=\"_parent\"><img src=\"https://colab.research.google.com/assets/colab-badge.svg\" alt=\"Open In Colab\"/></a>"
      ]
    },
    {
      "cell_type": "code",
      "execution_count": 1,
      "metadata": {
        "colab": {
          "base_uri": "https://localhost:8080/"
        },
        "id": "nYqsYG84s9mi",
        "outputId": "30004515-7d5d-4bd7-ff3e-ea31e8284cb4"
      },
      "outputs": [
        {
          "name": "stdout",
          "output_type": "stream",
          "text": [
            "enter your height in m: 1.62\n",
            "enter your weight in kg: 58\n"
          ]
        }
      ],
      "source": [
        "height =int( input(\"enter your height in m: \"))\n",
        "weight = int(input(\"enter your weight in kg: \"))"
      ]
    },
    {
      "cell_type": "code",
      "source": [
        "a =float(height)\n",
        "b = int(weight)"
      ],
      "metadata": {
        "id": "bXEljgdpt35i"
      },
      "execution_count": 7,
      "outputs": []
    },
    {
      "cell_type": "code",
      "source": [
        "imc = b/ (a *a)\n",
        "print(int(imc))"
      ],
      "metadata": {
        "colab": {
          "base_uri": "https://localhost:8080/"
        },
        "id": "E2PhAb6PvCNZ",
        "outputId": "0025720a-c646-4b85-83c5-29545b5ca2c1"
      },
      "execution_count": 10,
      "outputs": [
        {
          "output_type": "stream",
          "name": "stdout",
          "text": [
            "22\n"
          ]
        }
      ]
    }
  ]
}