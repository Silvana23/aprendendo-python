{
  "nbformat": 4,
  "nbformat_minor": 0,
  "metadata": {
    "colab": {
      "name": "map treasure.ipynb",
      "provenance": [],
      "authorship_tag": "ABX9TyMOSMWj0lqAY748I8IP/m7K",
      "include_colab_link": true
    },
    "kernelspec": {
      "name": "python3",
      "display_name": "Python 3"
    },
    "language_info": {
      "name": "python"
    }
  },
  "cells": [
    {
      "cell_type": "markdown",
      "metadata": {
        "id": "view-in-github",
        "colab_type": "text"
      },
      "source": [
        "<a href=\"https://colab.research.google.com/github/Silvana23/aprendendo-python/blob/main/map_treasure.ipynb\" target=\"_parent\"><img src=\"https://colab.research.google.com/assets/colab-badge.svg\" alt=\"Open In Colab\"/></a>"
      ]
    },
    {
      "cell_type": "code",
      "source": [
        "row1 = [\"⬜️\",\"⬜️\",\"⬜️\"]\n",
        "row2 = [\"⬜️\",\"⬜️\",\"⬜️\"]\n",
        "row3 = [\"⬜️\",\"⬜️\",\"⬜️\"]\n",
        "map = [row1, row2, row3]"
      ],
      "metadata": {
        "id": "lQRdCjH6m68_"
      },
      "execution_count": 3,
      "outputs": []
    },
    {
      "cell_type": "code",
      "source": [
        "print(f\"{row1}\\n{row2}\\n{row3}\")\n",
        "position = input(\"Where do you want to put the treasure? \")"
      ],
      "metadata": {
        "colab": {
          "base_uri": "https://localhost:8080/"
        },
        "id": "4ChkZeq0nE5a",
        "outputId": "73757091-ef14-4e08-abb9-bf1de8909d3b"
      },
      "execution_count": 4,
      "outputs": [
        {
          "name": "stdout",
          "output_type": "stream",
          "text": [
            "['⬜️', '⬜️', '⬜️']\n",
            "['⬜️', '⬜️', '⬜️']\n",
            "['⬜️', '⬜️', '⬜️']\n",
            "Where do you want to put the treasure? 23\n"
          ]
        }
      ]
    },
    {
      "cell_type": "code",
      "source": [
        "position_horizontal = int(position[0])\n",
        "position_vertical = int(position[1])\n",
        "\n",
        "row = map[position_vertical - 1 ]\n",
        "row[position_horizontal - 1] = \"X\"\n"
      ],
      "metadata": {
        "id": "O9qCveh8nJnw"
      },
      "execution_count": 5,
      "outputs": []
    },
    {
      "cell_type": "code",
      "source": [
        "print(f\"{row1}\\n{row2}\\n{row3}\")"
      ],
      "metadata": {
        "colab": {
          "base_uri": "https://localhost:8080/"
        },
        "id": "Z85E4nMLnOIS",
        "outputId": "1c1f33cf-b661-42a0-c435-07194af689ea"
      },
      "execution_count": 6,
      "outputs": [
        {
          "output_type": "stream",
          "name": "stdout",
          "text": [
            "['⬜️', '⬜️', '⬜️']\n",
            "['⬜️', '⬜️', '⬜️']\n",
            "['⬜️', 'X', '⬜️']\n"
          ]
        }
      ]
    }
  ]
}