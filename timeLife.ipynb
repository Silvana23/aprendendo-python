{
  "nbformat": 4,
  "nbformat_minor": 0,
  "metadata": {
    "colab": {
      "name": "timeLife.ipynb",
      "provenance": [],
      "authorship_tag": "ABX9TyNrWE/NKztPnfgtXoxYfDcY",
      "include_colab_link": true
    },
    "kernelspec": {
      "name": "python3",
      "display_name": "Python 3"
    },
    "language_info": {
      "name": "python"
    }
  },
  "cells": [
    {
      "cell_type": "markdown",
      "metadata": {
        "id": "view-in-github",
        "colab_type": "text"
      },
      "source": [
        "<a href=\"https://colab.research.google.com/github/Silvana23/aprendendo-python/blob/main/timeLife.ipynb\" target=\"_parent\"><img src=\"https://colab.research.google.com/assets/colab-badge.svg\" alt=\"Open In Colab\"/></a>"
      ]
    },
    {
      "cell_type": "code",
      "execution_count": 1,
      "metadata": {
        "colab": {
          "base_uri": "https://localhost:8080/"
        },
        "id": "dowc2wT47h-V",
        "outputId": "17fbea4f-3d1a-4982-bf2a-ae03915b2575"
      },
      "outputs": [
        {
          "name": "stdout",
          "output_type": "stream",
          "text": [
            "What is your current age?56\n"
          ]
        }
      ],
      "source": [
        "age = input(\"What is your current age?\")"
      ]
    },
    {
      "cell_type": "code",
      "source": [
        "age = 90 - int(age)\n",
        "print(f\"You have {int(age) * 365} days, {int(age) *52} weeks, and {int(age) *12} months left.\")"
      ],
      "metadata": {
        "colab": {
          "base_uri": "https://localhost:8080/"
        },
        "id": "KUTLwiYg73W7",
        "outputId": "67661398-5557-4b16-f300-78f42099ce64"
      },
      "execution_count": 2,
      "outputs": [
        {
          "output_type": "stream",
          "name": "stdout",
          "text": [
            "You have 12410 days, 1768 weeks, and 408 months left.\n"
          ]
        }
      ]
    }
  ]
}