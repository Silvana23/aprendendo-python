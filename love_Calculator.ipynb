{
  "nbformat": 4,
  "nbformat_minor": 0,
  "metadata": {
    "colab": {
      "name": "love Calculator.ipynb",
      "provenance": [],
      "authorship_tag": "ABX9TyMNcJx1P9r8cjxZRGgWv4ES"
    },
    "kernelspec": {
      "name": "python3",
      "display_name": "Python 3"
    },
    "language_info": {
      "name": "python"
    }
  },
  "cells": [
    {
      "cell_type": "code",
      "execution_count": 1,
      "metadata": {
        "colab": {
          "base_uri": "https://localhost:8080/"
        },
        "id": "KSQ68U-jTYW3",
        "outputId": "a51b7fc4-5f2d-4dd0-89b5-48cf9704c725"
      },
      "outputs": [
        {
          "name": "stdout",
          "output_type": "stream",
          "text": [
            "Welcome to the Love Calculator!\n",
            "What is your name? \n",
            "sisi\n",
            "What is their name? \n",
            "luscak\n"
          ]
        }
      ],
      "source": [
        "print(\"Welcome to the Love Calculator!\")\n",
        "name1 = input(\"What is your name? \\n\")\n",
        "name2 = input(\"What is their name? \\n\")"
      ]
    },
    {
      "cell_type": "code",
      "source": [
        "combined_string = name1 + name2\n",
        "lower_case_string= combined_string.lower()"
      ],
      "metadata": {
        "id": "9GuMiGOUTkcR"
      },
      "execution_count": 2,
      "outputs": []
    },
    {
      "cell_type": "code",
      "source": [
        "t= lower_case_string.count(\"t\")\n",
        "r= lower_case_string.count(\"r\")\n",
        "u= lower_case_string.count(\"u\")\n",
        "e= lower_case_string.count(\"e\")\n",
        "\n",
        "true = t + r + u + e"
      ],
      "metadata": {
        "id": "YCauXVUCTpZL"
      },
      "execution_count": 3,
      "outputs": []
    },
    {
      "cell_type": "code",
      "source": [
        "l= lower_case_string.count(\"l\")\n",
        "o= lower_case_string.count(\"o\")\n",
        "v= lower_case_string.count(\"v\")\n",
        "e= lower_case_string.count(\"e\")\n",
        "\n",
        "love= l + o + v + e"
      ],
      "metadata": {
        "id": "l8gmwXARTsVM"
      },
      "execution_count": 4,
      "outputs": []
    },
    {
      "cell_type": "code",
      "source": [
        "love_score = int(str(true) + str(love))\n",
        "#print(love_score)"
      ],
      "metadata": {
        "id": "_R4qNEz_Tu9b"
      },
      "execution_count": 5,
      "outputs": []
    },
    {
      "cell_type": "code",
      "source": [
        "if love_score <10 or love_score > 90:\n",
        "    print(f\"Your score is {love_score}, you go together like coke and mentos\")\n",
        "\n",
        "elif love_score >=40 and love_score <=50:\n",
        "    print(f\"Your score is {love_score} ,you are alright together. \")\n",
        "else:\n",
        "    print(f\" your score is {love_score}\")\n"
      ],
      "metadata": {
        "colab": {
          "base_uri": "https://localhost:8080/"
        },
        "id": "pRPjX-l1TyX5",
        "outputId": "845e8b1a-d9ec-405a-901c-dcb3aa5fb824"
      },
      "execution_count": 6,
      "outputs": [
        {
          "output_type": "stream",
          "name": "stdout",
          "text": [
            " your score is 11\n"
          ]
        }
      ]
    }
  ]
}