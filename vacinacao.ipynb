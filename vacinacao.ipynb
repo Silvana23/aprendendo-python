{
  "nbformat": 4,
  "nbformat_minor": 0,
  "metadata": {
    "colab": {
      "name": "vacinacao.ipynb",
      "provenance": [],
      "authorship_tag": "ABX9TyOdGJN09/PD6sD7EHiYjdRA",
      "include_colab_link": true
    },
    "kernelspec": {
      "name": "python3",
      "display_name": "Python 3"
    },
    "language_info": {
      "name": "python"
    }
  },
  "cells": [
    {
      "cell_type": "markdown",
      "metadata": {
        "id": "view-in-github",
        "colab_type": "text"
      },
      "source": [
        "<a href=\"https://colab.research.google.com/github/Silvana23/aprendendo-python/blob/main/vacinacao.ipynb\" target=\"_parent\"><img src=\"https://colab.research.google.com/assets/colab-badge.svg\" alt=\"Open In Colab\"/></a>"
      ]
    },
    {
      "cell_type": "code",
      "execution_count": 4,
      "metadata": {
        "colab": {
          "base_uri": "https://localhost:8080/"
        },
        "id": "g2sNmE5djTx0",
        "outputId": "d573c5e7-6a2f-41c4-84c3-594e3f37cdcd"
      },
      "outputs": [
        {
          "output_type": "stream",
          "name": "stdout",
          "text": [
            "digite sua idade 20\n",
            "voce nao pode tomar a vacina\n"
          ]
        }
      ],
      "source": [
        "numero=int(input(\"digite sua idade \"))\n",
        "if numero >= 40:\n",
        "  print('voce pode tomar a vacina')\n",
        "else:\n",
        "    print('voce nao pode tomar a vacina')"
      ]
    },
    {
      "cell_type": "code",
      "source": [
        "tomouVacina=(input('voce ja tomou a primeira dose?    USE SOMENTE sim OU nao ' ))\n",
        "tomouVacina.lower()\n",
        "if 'sim' in tomouVacina:\n",
        "  print(\"entao voce pode tomar  a segunda dose\")\n",
        "else:\n",
        "    print('desculpe voce nao atendeu a nenhum requisito para vacinacao')"
      ],
      "metadata": {
        "id": "Tyv-Ul_xlCIB"
      },
      "execution_count": null,
      "outputs": []
    }
  ]
}