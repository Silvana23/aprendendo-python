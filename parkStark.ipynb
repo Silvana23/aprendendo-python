{
  "nbformat": 4,
  "nbformat_minor": 0,
  "metadata": {
    "colab": {
      "name": "parkStark.ipynb",
      "provenance": [],
      "authorship_tag": "ABX9TyPSCZSUgeie6MJO/LrwpG9+",
      "include_colab_link": true
    },
    "kernelspec": {
      "name": "python3",
      "display_name": "Python 3"
    },
    "language_info": {
      "name": "python"
    }
  },
  "cells": [
    {
      "cell_type": "markdown",
      "metadata": {
        "id": "view-in-github",
        "colab_type": "text"
      },
      "source": [
        "<a href=\"https://colab.research.google.com/github/Silvana23/aprendendo-python/blob/main/parkStark.ipynb\" target=\"_parent\"><img src=\"https://colab.research.google.com/assets/colab-badge.svg\" alt=\"Open In Colab\"/></a>"
      ]
    },
    {
      "cell_type": "code",
      "execution_count": 10,
      "metadata": {
        "colab": {
          "base_uri": "https://localhost:8080/"
        },
        "id": "KlhS-dYpvLqd",
        "outputId": "df1c1eee-62d6-4ba2-aab7-5f422cb8a0e2"
      },
      "outputs": [
        {
          "name": "stdout",
          "output_type": "stream",
          "text": [
            "bem vindo ao parkStar\n",
            "voce tem mais de 1,20cm (s/n) s\n"
          ]
        }
      ],
      "source": [
        "print(\"bem vindo ao parkStar\")\n",
        "altura=input(\"voce tem mais de 1,20cm (s/n) \")"
      ]
    },
    {
      "cell_type": "code",
      "source": [
        "idade=int(input(\"qual a sua idade \"))"
      ],
      "metadata": {
        "colab": {
          "base_uri": "https://localhost:8080/"
        },
        "id": "8NrcgSGUv-rP",
        "outputId": "e152db7b-9a42-4e67-b336-dd1fd6e6681b"
      },
      "execution_count": 29,
      "outputs": [
        {
          "name": "stdout",
          "output_type": "stream",
          "text": [
            "qual a sua idade 10\n"
          ]
        }
      ]
    },
    {
      "cell_type": "code",
      "source": [
        "if altura == \"n\":\n",
        "  print(\"desculpe voce nao pode entrar\")"
      ],
      "metadata": {
        "id": "OW_JnZ7lwaPQ"
      },
      "execution_count": 30,
      "outputs": []
    },
    {
      "cell_type": "code",
      "source": [
        "if idade< 12:\n",
        "  print(\"voce de ve pagar 5 reais\")"
      ],
      "metadata": {
        "colab": {
          "base_uri": "https://localhost:8080/"
        },
        "id": "-1kx9VLFw3TX",
        "outputId": "83faf6f8-8e21-42e6-e0f5-85c2c9ff1c5c"
      },
      "execution_count": 31,
      "outputs": [
        {
          "output_type": "stream",
          "name": "stdout",
          "text": [
            "voce de ve pagar 5 reais\n"
          ]
        }
      ]
    },
    {
      "cell_type": "code",
      "source": [
        "if idade <= 18:\n",
        "  print(\"voce deve pagar 7 reais\")\n",
        "else:\n",
        "   print(\"voce deve pagar 12 reais\")"
      ],
      "metadata": {
        "colab": {
          "base_uri": "https://localhost:8080/"
        },
        "id": "xD8zSYZlxHyi",
        "outputId": "33551a64-73af-4fff-999a-c2dff496ab44"
      },
      "execution_count": 28,
      "outputs": [
        {
          "output_type": "stream",
          "name": "stdout",
          "text": [
            "voce deve pagar 12 reais\n"
          ]
        }
      ]
    }
  ]
}