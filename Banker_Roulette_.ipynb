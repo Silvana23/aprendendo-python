{
  "nbformat": 4,
  "nbformat_minor": 0,
  "metadata": {
    "colab": {
      "name": "Banker Roulette .ipynb",
      "provenance": [],
      "authorship_tag": "ABX9TyPrVhsKLuNo902Q1aMI6O24",
      "include_colab_link": true
    },
    "kernelspec": {
      "name": "python3",
      "display_name": "Python 3"
    },
    "language_info": {
      "name": "python"
    }
  },
  "cells": [
    {
      "cell_type": "markdown",
      "metadata": {
        "id": "view-in-github",
        "colab_type": "text"
      },
      "source": [
        "<a href=\"https://colab.research.google.com/github/Silvana23/aprendendo-python/blob/main/Banker_Roulette_.ipynb\" target=\"_parent\"><img src=\"https://colab.research.google.com/assets/colab-badge.svg\" alt=\"Open In Colab\"/></a>"
      ]
    },
    {
      "cell_type": "code",
      "execution_count": 2,
      "metadata": {
        "id": "bMduw44XZLWR"
      },
      "outputs": [],
      "source": [
        "import random"
      ]
    },
    {
      "cell_type": "code",
      "source": [
        "names_string = input(\"Give me everybody's names, separated by a comma. \")\n",
        "names = names_string.split(\", \")"
      ],
      "metadata": {
        "colab": {
          "base_uri": "https://localhost:8080/"
        },
        "id": "4NUYONVaZTqJ",
        "outputId": "ca66230a-8ece-43bb-b8d5-6251629282cd"
      },
      "execution_count": 3,
      "outputs": [
        {
          "name": "stdout",
          "output_type": "stream",
          "text": [
            "Give me everybody's names, separated by a comma. Angela, Ben, Jenny, Michael, Chloe\n"
          ]
        }
      ]
    },
    {
      "cell_type": "code",
      "source": [
        "total = len(names)\n",
        "pay = random.randint(0 , total -1)\n",
        "how_pay = names[pay]"
      ],
      "metadata": {
        "id": "yNv4U2tKZjcB"
      },
      "execution_count": 4,
      "outputs": []
    },
    {
      "cell_type": "code",
      "source": [
        "print(f'{how_pay} is going to buy the meal today!')"
      ],
      "metadata": {
        "colab": {
          "base_uri": "https://localhost:8080/"
        },
        "id": "RSQ-9FnSaPZv",
        "outputId": "186965c6-687f-4bfd-83eb-bb6939d54d19"
      },
      "execution_count": 6,
      "outputs": [
        {
          "output_type": "stream",
          "name": "stdout",
          "text": [
            "Chloe is going to buy the meal today!\n"
          ]
        }
      ]
    }
  ]
}