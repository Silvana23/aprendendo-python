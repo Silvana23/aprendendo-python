{
  "nbformat": 4,
  "nbformat_minor": 0,
  "metadata": {
    "colab": {
      "name": "funcao.ipynb",
      "provenance": [],
      "authorship_tag": "ABX9TyNzId4lKSWIEGZvA6xmacrc",
      "include_colab_link": true
    },
    "kernelspec": {
      "name": "python3",
      "display_name": "Python 3"
    },
    "language_info": {
      "name": "python"
    }
  },
  "cells": [
    {
      "cell_type": "markdown",
      "metadata": {
        "id": "view-in-github",
        "colab_type": "text"
      },
      "source": [
        "<a href=\"https://colab.research.google.com/github/Silvana23/aprendendo-python/blob/main/funcao.ipynb\" target=\"_parent\"><img src=\"https://colab.research.google.com/assets/colab-badge.svg\" alt=\"Open In Colab\"/></a>"
      ]
    },
    {
      "cell_type": "code",
      "execution_count": 3,
      "metadata": {
        "id": "ehIBxKZfxKlw"
      },
      "outputs": [],
      "source": [
        "def teste(v,i):\n",
        "  valor = v\n",
        "  incremento = i\n",
        "  resultado = valor + incremento\n",
        "  return resultado"
      ]
    },
    {
      "cell_type": "code",
      "source": [
        "a =teste(10,1)"
      ],
      "metadata": {
        "id": "lj4YReQ1yVFM"
      },
      "execution_count": 4,
      "outputs": []
    },
    {
      "cell_type": "code",
      "source": [
        "a"
      ],
      "metadata": {
        "colab": {
          "base_uri": "https://localhost:8080/"
        },
        "id": "bD4lvQHPyZ01",
        "outputId": "0638a402-d9fa-4754-ea3e-1c31537b7209"
      },
      "execution_count": 5,
      "outputs": [
        {
          "output_type": "execute_result",
          "data": {
            "text/plain": [
              "11"
            ]
          },
          "metadata": {},
          "execution_count": 5
        }
      ]
    }
  ]
}