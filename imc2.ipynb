{
  "nbformat": 4,
  "nbformat_minor": 0,
  "metadata": {
    "colab": {
      "name": "Untitled9.ipynb",
      "provenance": [],
      "authorship_tag": "ABX9TyM9CiIUbC1shfh2/L8GTroh"
    },
    "kernelspec": {
      "name": "python3",
      "display_name": "Python 3"
    },
    "language_info": {
      "name": "python"
    }
  },
  "cells": [
    {
      "cell_type": "code",
      "execution_count": 1,
      "metadata": {
        "colab": {
          "base_uri": "https://localhost:8080/"
        },
        "id": "Fbup4zScOu0p",
        "outputId": "4ec3e478-8bc7-433e-ff92-210be9be418c"
      },
      "outputs": [
        {
          "name": "stdout",
          "output_type": "stream",
          "text": [
            "enter your height in m: 1.60\n",
            "enter your weight in kg: 58\n"
          ]
        }
      ],
      "source": [
        "height = float(input(\"enter your height in m: \"))\n",
        "weight = float(input(\"enter your weight in kg: \"))"
      ]
    },
    {
      "cell_type": "code",
      "source": [
        "imc= (weight/height ** 2)\n",
        "print(int(imc))"
      ],
      "metadata": {
        "colab": {
          "base_uri": "https://localhost:8080/"
        },
        "id": "xRSsIKyAO5yy",
        "outputId": "a5728e68-d0a4-45ed-b8c5-c2523dbfa39d"
      },
      "execution_count": 23,
      "outputs": [
        {
          "output_type": "stream",
          "name": "stdout",
          "text": [
            "22\n"
          ]
        }
      ]
    },
    {
      "cell_type": "code",
      "source": [
        "if imc < 18:\n",
        "  print('you are underweight')"
      ],
      "metadata": {
        "id": "hMkcdslzPdvA"
      },
      "execution_count": 31,
      "outputs": []
    },
    {
      "cell_type": "code",
      "source": [
        "elif imc < 25:\n",
        " print('you have a normal weight')"
      ],
      "metadata": {
        "id": "58FZ2CFoQ55C"
      },
      "execution_count": null,
      "outputs": []
    },
    {
      "cell_type": "code",
      "source": [
        "elif  imc <30:\n",
        "  print('you are slightly overweight')"
      ],
      "metadata": {
        "colab": {
          "base_uri": "https://localhost:8080/"
        },
        "id": "nl9XoH5QRz8S",
        "outputId": "5a8cc111-02ac-43f8-e7fd-81aa75d3643e"
      },
      "execution_count": 28,
      "outputs": [
        {
          "output_type": "stream",
          "name": "stdout",
          "text": [
            "you are slightly overweight\n"
          ]
        }
      ]
    },
    {
      "cell_type": "code",
      "source": [
        "elif  imc<35:\n",
        "  print('you are obese')"
      ],
      "metadata": {
        "colab": {
          "base_uri": "https://localhost:8080/"
        },
        "id": "h5X8lI5SSLan",
        "outputId": "2dd3d083-75a3-4060-c72c-f4a69b8972b8"
      },
      "execution_count": 29,
      "outputs": [
        {
          "output_type": "stream",
          "name": "stdout",
          "text": [
            "you are obese\n"
          ]
        }
      ]
    },
    {
      "cell_type": "code",
      "source": [
        "else :\n",
        " print('you are clinically obese.')"
      ],
      "metadata": {
        "id": "09pkcMAtShRy"
      },
      "execution_count": null,
      "outputs": []
    }
  ]
}