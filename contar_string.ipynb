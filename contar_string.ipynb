{
  "nbformat": 4,
  "nbformat_minor": 0,
  "metadata": {
    "colab": {
      "name": "contar string.ipynb",
      "provenance": [],
      "authorship_tag": "ABX9TyPlg3B/qVKctB0TP2OZq2CG",
      "include_colab_link": true
    },
    "kernelspec": {
      "name": "python3",
      "display_name": "Python 3"
    },
    "language_info": {
      "name": "python"
    }
  },
  "cells": [
    {
      "cell_type": "markdown",
      "metadata": {
        "id": "view-in-github",
        "colab_type": "text"
      },
      "source": [
        "<a href=\"https://colab.research.google.com/github/Silvana23/aprendendo-python/blob/main/contar_string.ipynb\" target=\"_parent\"><img src=\"https://colab.research.google.com/assets/colab-badge.svg\" alt=\"Open In Colab\"/></a>"
      ]
    },
    {
      "cell_type": "code",
      "execution_count": null,
      "metadata": {
        "id": "wU23H1yKWHkc",
        "colab": {
          "base_uri": "https://localhost:8080/"
        },
        "outputId": "b8db0b92-d893-4b10-b182-6af75fd2da2f"
      },
      "outputs": [
        {
          "output_type": "stream",
          "name": "stdout",
          "text": [
            "what is your name? sese\n",
            "your name has 4 characters\n"
          ]
        }
      ],
      "source": [
        "num_char = len(input(\"what is your name? \"))\n",
        "convert =str(num_char)\n",
        "print(\"your name has \" + convert + \" characters\")"
      ]
    }
  ]
}