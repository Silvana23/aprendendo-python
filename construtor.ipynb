{
  "nbformat": 4,
  "nbformat_minor": 0,
  "metadata": {
    "colab": {
      "name": "construtor.ipynb",
      "provenance": [],
      "authorship_tag": "ABX9TyO0l4u2XkaxbwngO41qpw/j",
      "include_colab_link": true
    },
    "kernelspec": {
      "name": "python3",
      "display_name": "Python 3"
    },
    "language_info": {
      "name": "python"
    }
  },
  "cells": [
    {
      "cell_type": "markdown",
      "metadata": {
        "id": "view-in-github",
        "colab_type": "text"
      },
      "source": [
        "<a href=\"https://colab.research.google.com/github/Silvana23/aprendendo-python/blob/main/construtor.ipynb\" target=\"_parent\"><img src=\"https://colab.research.google.com/assets/colab-badge.svg\" alt=\"Open In Colab\"/></a>"
      ]
    },
    {
      "cell_type": "code",
      "execution_count": 8,
      "metadata": {
        "id": "b9hSGjv9Ay3w"
      },
      "outputs": [],
      "source": [
        "class somar:\n",
        "  def __int__(self, v=10, i=1):\n",
        "    self.valor = v\n",
        "    self.incremento = i\n",
        "    self.valor_exponencial = v\n",
        "  def incrementa(self):\n",
        "    self.valor = self.valor + self.incremento\n",
        "  def verifica(self):\n",
        "    if self.valor > 12:\n",
        "      print(\"ultrapassou 12\")\n",
        "  def exponencial(self , e):\n",
        "    self.valor_exponencial = self.valor**e\n",
        "  def incrementa_quadrado(self):\n",
        "    self.incrementa()\n",
        "    self.exponencial(2)\n"
      ]
    },
    {
      "cell_type": "code",
      "source": [
        "a = somar()"
      ],
      "metadata": {
        "id": "wyCRR0cKCwjQ"
      },
      "execution_count": 9,
      "outputs": []
    }
  ]
}