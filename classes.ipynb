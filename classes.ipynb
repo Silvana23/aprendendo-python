{
  "nbformat": 4,
  "nbformat_minor": 0,
  "metadata": {
    "colab": {
      "name": "classes.ipynb",
      "provenance": [],
      "authorship_tag": "ABX9TyMFZyUK1/JP3m0wLt1HCrgi",
      "include_colab_link": true
    },
    "kernelspec": {
      "name": "python3",
      "display_name": "Python 3"
    },
    "language_info": {
      "name": "python"
    }
  },
  "cells": [
    {
      "cell_type": "markdown",
      "metadata": {
        "id": "view-in-github",
        "colab_type": "text"
      },
      "source": [
        "<a href=\"https://colab.research.google.com/github/Silvana23/aprendendo-python/blob/main/classes.ipynb\" target=\"_parent\"><img src=\"https://colab.research.google.com/assets/colab-badge.svg\" alt=\"Open In Colab\"/></a>"
      ]
    },
    {
      "cell_type": "code",
      "execution_count": 31,
      "metadata": {
        "id": "mAe7kdJUz4WL"
      },
      "outputs": [],
      "source": [
        "class somar:\n",
        "  def __init__(self, v: int, i :int):\n",
        "     self.valor = v\n",
        "     self.incremento = i\n",
        "  def incrementa(self):\n",
        "     self.valor = self.valor + self.incremento\n",
        "  "
      ]
    },
    {
      "cell_type": "code",
      "source": [
        "a = somar(10, 1)"
      ],
      "metadata": {
        "id": "nUG54UQz06hN"
      },
      "execution_count": 32,
      "outputs": []
    },
    {
      "cell_type": "code",
      "source": [
        "a.incrementa()"
      ],
      "metadata": {
        "id": "agUzo8xN0-vA"
      },
      "execution_count": 35,
      "outputs": []
    },
    {
      "cell_type": "code",
      "source": [
        "a.valor"
      ],
      "metadata": {
        "colab": {
          "base_uri": "https://localhost:8080/"
        },
        "id": "0BDDkg6p1E-M",
        "outputId": "4c2232ee-2911-4433-d653-c881260dcbad"
      },
      "execution_count": 36,
      "outputs": [
        {
          "output_type": "execute_result",
          "data": {
            "text/plain": [
              "11"
            ]
          },
          "metadata": {},
          "execution_count": 36
        }
      ]
    },
    {
      "cell_type": "code",
      "source": [
        "a"
      ],
      "metadata": {
        "colab": {
          "base_uri": "https://localhost:8080/"
        },
        "id": "aQ1mx4xw1G7L",
        "outputId": "fce11195-966d-40ab-b35a-62e3167c44e7"
      },
      "execution_count": 18,
      "outputs": [
        {
          "output_type": "execute_result",
          "data": {
            "text/plain": [
              "11"
            ]
          },
          "metadata": {},
          "execution_count": 18
        }
      ]
    },
    {
      "cell_type": "code",
      "source": [
        "a = somar().incrementa(10,1)"
      ],
      "metadata": {
        "id": "4_-Mkoir3KqO"
      },
      "execution_count": 14,
      "outputs": []
    },
    {
      "cell_type": "code",
      "source": [
        "a"
      ],
      "metadata": {
        "colab": {
          "base_uri": "https://localhost:8080/"
        },
        "id": "in-Q7xQg3RvE",
        "outputId": "c9207914-e72e-4fbd-d6c1-ce87fec0097b"
      },
      "execution_count": 15,
      "outputs": [
        {
          "output_type": "execute_result",
          "data": {
            "text/plain": [
              "11"
            ]
          },
          "metadata": {},
          "execution_count": 15
        }
      ]
    },
    {
      "cell_type": "code",
      "source": [
        "\n"
      ],
      "metadata": {
        "id": "Sq8_UMxH44bT"
      },
      "execution_count": null,
      "outputs": []
    }
  ]
}